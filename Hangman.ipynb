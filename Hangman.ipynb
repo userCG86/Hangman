{
 "cells": [
  {
   "cell_type": "code",
   "execution_count": 2,
   "id": "01f20bae-a139-4dd2-beaf-12c0702ceee7",
   "metadata": {},
   "outputs": [
    {
     "name": "stdout",
     "output_type": "stream",
     "text": [
      "\n",
      "    _______\n",
      "    |     |\n",
      "    |     O\n",
      "    |    /|\\\n",
      "    |    / \\\n",
      "    |\n",
      "    |______\n",
      "\n",
      "    YOU'VE BEEN HANGED!\n",
      "The secret word was LAZED\n"
     ]
    }
   ],
   "source": [
    "from src import play_hangman\n",
    "play_hangman()"
   ]
  }
 ],
 "metadata": {
  "kernelspec": {
   "display_name": "Python 3 (ipykernel)",
   "language": "python",
   "name": "python3"
  },
  "language_info": {
   "codemirror_mode": {
    "name": "ipython",
    "version": 3
   },
   "file_extension": ".py",
   "mimetype": "text/x-python",
   "name": "python",
   "nbconvert_exporter": "python",
   "pygments_lexer": "ipython3",
   "version": "3.11.7"
  }
 },
 "nbformat": 4,
 "nbformat_minor": 5
}
